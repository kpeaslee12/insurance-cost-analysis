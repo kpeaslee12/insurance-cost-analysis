{
 "cells": [
  {
   "cell_type": "markdown",
   "id": "db084b3d",
   "metadata": {},
   "source": [
    "# 📊 Insurance Charges Data Analysis\n",
    "Welcome to this healthcare-focused data analysis project! In this notebook, we explore how age, BMI, smoking habits, and other factors influence medical insurance charges.\n",
    "\n",
    "**Goals:**\n",
    "- Explore the dataset and perform basic EDA (Exploratory Data Analysis)\n",
    "- Visualize key relationships using scatter plots, line plots, and facet grids\n",
    "- Build a basic predictive model to estimate charges\n",
    "- Summarize findings and insights\n",
    "\n",
    "_Dataset source: [Kaggle - Medical Cost Personal Dataset](https://www.kaggle.com/datasets/mirichoi0218/insurance)_"
   ]
  },
  {
   "cell_type": "code",
   "execution_count": null,
   "id": "600eb022",
   "metadata": {},
   "outputs": [],
   "source": [
    "import pandas as pd\n",
    "import seaborn as sns\n",
    "import matplotlib.pyplot as plt\n",
    "import plotly.express as px\n",
    "from sklearn.linear_model import LinearRegression\n",
    "from sklearn.model_selection import train_test_split\n",
    "\n",
    "sns.set(style='whitegrid')"
   ]
  },
  {
   "cell_type": "code",
   "execution_count": null,
   "id": "12515eac",
   "metadata": {},
   "outputs": [],
   "source": [
    "# Load the dataset\n",
    "url = 'https://raw.githubusercontent.com/stedy/Machine-Learning-with-R-datasets/master/insurance.csv'\n",
    "df = pd.read_csv(url)\n",
    "df.head()"
   ]
  },
  {
   "cell_type": "markdown",
   "id": "54bead0e",
   "metadata": {},
   "source": [
    "## 📋 Descriptive Statistics"
   ]
  },
  {
   "cell_type": "code",
   "execution_count": null,
   "id": "cad3bb5b",
   "metadata": {},
   "outputs": [],
   "source": [
    "df.describe(include='all')"
   ]
  },
  {
   "cell_type": "markdown",
   "id": "613a0a5f",
   "metadata": {},
   "source": [
    "## 🔥 Correlation Heatmap"
   ]
  },
  {
   "cell_type": "code",
   "execution_count": null,
   "id": "78778ccd",
   "metadata": {},
   "outputs": [],
   "source": [
    "plt.figure(figsize=(8,6))\n",
    "sns.heatmap(df.corr(numeric_only=True), annot=True, cmap='coolwarm')\n",
    "plt.title('Correlation Heatmap')\n",
    "plt.show()"
   ]
  },
  {
   "cell_type": "markdown",
   "id": "1b36528b",
   "metadata": {},
   "source": [
    "## 📈 Scatterplot: BMI vs Insurance Charges"
   ]
  },
  {
   "cell_type": "code",
   "execution_count": null,
   "id": "96ab9e85",
   "metadata": {},
   "outputs": [],
   "source": [
    "plt.figure(figsize=(10,6))\n",
    "sns.scatterplot(data=df, x='bmi', y='charges', hue='smoker')\n",
    "plt.title('Scatterplot of BMI vs Insurance Charges')\n",
    "plt.xlabel('BMI')\n",
    "plt.ylabel('Insurance Charges ($)')\n",
    "plt.show()"
   ]
  },
  {
   "cell_type": "markdown",
   "id": "c9296a47",
   "metadata": {},
   "source": [
    "## 📊 Line Plot: Age vs Avg Charges by Region"
   ]
  },
  {
   "cell_type": "code",
   "execution_count": null,
   "id": "3a778d1e",
   "metadata": {},
   "outputs": [],
   "source": [
    "# Group data\n",
    "avg_charges = df.groupby(['region', 'age'])['charges'].mean().reset_index()\n",
    "\n",
    "sns.relplot(\n",
    "    data=avg_charges,\n",
    "    x='age', y='charges', kind='line',\n",
    "    col='region', col_wrap=2, height=4, aspect=1.2\n",
    ")\n",
    "plt.suptitle('Line Plot of Age vs Average Charges by Region', y=1.05)\n",
    "plt.show()"
   ]
  },
  {
   "cell_type": "markdown",
   "id": "b8bf1e3e",
   "metadata": {},
   "source": [
    "## 🔍 FacetGrid: Age vs Charges by Smoker and Sex"
   ]
  },
  {
   "cell_type": "code",
   "execution_count": null,
   "id": "3cb545b5",
   "metadata": {},
   "outputs": [],
   "source": [
    "g = sns.FacetGrid(df, col='smoker', row='sex', height=4, aspect=1.2)\n",
    "g.map_dataframe(sns.scatterplot, x='age', y='charges', alpha=0.6)\n",
    "g.fig.subplots_adjust(top=0.9)\n",
    "g.fig.suptitle('FacetGrid of Age vs Charges by Smoker and Sex')\n",
    "plt.show()"
   ]
  },
  {
   "cell_type": "markdown",
   "id": "fd2cc086",
   "metadata": {},
   "source": [
    "## 🌐 Interactive Scatter Plot with Plotly"
   ]
  },
  {
   "cell_type": "code",
   "execution_count": null,
   "id": "3221c868",
   "metadata": {},
   "outputs": [],
   "source": [
    "fig = px.scatter(df, x='bmi', y='charges', color='smoker', \n",
    "                 hover_data=['age', 'region', 'sex'])\n",
    "fig.show()"
   ]
  },
  {
   "cell_type": "markdown",
   "id": "84f9cd8c",
   "metadata": {},
   "source": [
    "## 🧠 Predictive Modeling: Linear Regression"
   ]
  },
  {
   "cell_type": "code",
   "execution_count": null,
   "id": "6d6f24b4",
   "metadata": {},
   "outputs": [],
   "source": [
    "# Encode categorical variables\n",
    "df_encoded = pd.get_dummies(df, drop_first=True)\n",
    "\n",
    "X = df_encoded.drop('charges', axis=1)\n",
    "y = df_encoded['charges']\n",
    "\n",
    "X_train, X_test, y_train, y_test = train_test_split(X, y, test_size=0.2, random_state=42)\n",
    "model = LinearRegression()\n",
    "model.fit(X_train, y_train)\n",
    "print('Model Score (R²):', model.score(X_test, y_test))"
   ]
  },
  {
   "cell_type": "markdown",
   "id": "7c9704b2",
   "metadata": {},
   "source": [
    "## ✅ Summary & Key Learnings\n",
    "- **Smokers** tend to have significantly higher insurance charges.\n",
    "- **BMI** and **age** are positively correlated with medical expenses.\n",
    "- **FacetGrids** helped uncover combined effects of gender and smoking.\n",
    "- Built a **basic regression model** to predict charges with a decent R² score.\n",
    "\n",
    "### 💡 What I Learned\n",
    "- How to clean, explore, and visualize a real-world healthcare dataset.\n",
    "- Created informative plots using seaborn and interactive visuals with Plotly.\n",
    "- Applied basic machine learning to model insurance cost outcomes.\n",
    "- Gained confidence in using pandas, seaborn, and scikit-learn for analysis."
   ]
  }
 ],
 "metadata": {},
 "nbformat": 4,
 "nbformat_minor": 5
}
